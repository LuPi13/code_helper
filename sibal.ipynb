{
 "metadata": {
  "language_info": {
   "codemirror_mode": {
    "name": "ipython",
    "version": 3
   },
   "file_extension": ".py",
   "mimetype": "text/x-python",
   "name": "python",
   "nbconvert_exporter": "python",
   "pygments_lexer": "ipython3",
   "version": "3.9.4"
  },
  "orig_nbformat": 2,
  "kernelspec": {
   "name": "python394jvsc74a57bd063fd5069d213b44bf678585dea6b12cceca9941eaf7f819626cde1f2670de90d",
   "display_name": "Python 3.9.4 64-bit"
  },
  "metadata": {
   "interpreter": {
    "hash": "63fd5069d213b44bf678585dea6b12cceca9941eaf7f819626cde1f2670de90d"
   }
  }
 },
 "nbformat": 4,
 "nbformat_minor": 2,
 "cells": [
  {
   "cell_type": "code",
   "execution_count": 2,
   "metadata": {},
   "outputs": [
    {
     "output_type": "stream",
     "name": "stdout",
     "text": [
      "숫자야구 게임을 시작합니다\n",
      "[8, 7, 2]\n",
      "['4', '2', '3']\n",
      "0 strike(s) 1 ball(s)\n",
      "[8, 7, 2]\n",
      "[]\n",
      "다시 입력하세요.\n"
     ]
    },
    {
     "output_type": "error",
     "ename": "KeyboardInterrupt",
     "evalue": "",
     "traceback": [
      "\u001b[1;31m---------------------------------------------------------------------------\u001b[0m",
      "\u001b[1;31mKeyboardInterrupt\u001b[0m                         Traceback (most recent call last)",
      "\u001b[1;32m<ipython-input-2-43e9242dd3d3>\u001b[0m in \u001b[0;36m<module>\u001b[1;34m\u001b[0m\n\u001b[0;32m     41\u001b[0m     \u001b[1;32mif\u001b[0m \u001b[0mlen\u001b[0m\u001b[1;33m(\u001b[0m\u001b[0mguess\u001b[0m\u001b[1;33m)\u001b[0m \u001b[1;33m!=\u001b[0m \u001b[1;36m3\u001b[0m \u001b[1;33m:\u001b[0m\u001b[1;33m\u001b[0m\u001b[1;33m\u001b[0m\u001b[0m\n\u001b[0;32m     42\u001b[0m         \u001b[0mprint\u001b[0m\u001b[1;33m(\u001b[0m\u001b[1;34m'다시 입력하세요.'\u001b[0m\u001b[1;33m)\u001b[0m\u001b[1;33m\u001b[0m\u001b[1;33m\u001b[0m\u001b[0m\n\u001b[1;32m---> 43\u001b[1;33m         \u001b[0mtime\u001b[0m\u001b[1;33m.\u001b[0m\u001b[0msleep\u001b[0m\u001b[1;33m(\u001b[0m\u001b[1;36m1\u001b[0m\u001b[1;33m)\u001b[0m\u001b[1;33m\u001b[0m\u001b[1;33m\u001b[0m\u001b[0m\n\u001b[0m\u001b[0;32m     44\u001b[0m     \u001b[1;32melif\u001b[0m \u001b[0mlen\u001b[0m\u001b[1;33m(\u001b[0m\u001b[0mguess\u001b[0m\u001b[1;33m)\u001b[0m \u001b[1;33m==\u001b[0m \u001b[1;36m3\u001b[0m \u001b[1;33m:\u001b[0m\u001b[1;33m\u001b[0m\u001b[1;33m\u001b[0m\u001b[0m\n\u001b[0;32m     45\u001b[0m         \u001b[0mtrial\u001b[0m \u001b[1;33m+=\u001b[0m \u001b[1;36m1\u001b[0m\u001b[1;33m\u001b[0m\u001b[1;33m\u001b[0m\u001b[0m\n",
      "\u001b[1;31mKeyboardInterrupt\u001b[0m: "
     ]
    }
   ],
   "source": [
    "import random\n",
    "import time\n",
    "\n",
    "def count_strk(list1,list2):\n",
    "    strk = 0\n",
    "    for i in range(0,3) :\n",
    "        if list1[i] == list2[i] :\n",
    "            strk += 1\n",
    "    return(strk)\n",
    "\n",
    "def count_ball(list1,list2):\n",
    "    ball = 0\n",
    "    for i in range(0,3):\n",
    "        if (list1[i] != list2[i])&(list1[i] in list2):\n",
    "            ball += 1\n",
    "    return(ball)\n",
    "\n",
    "time.sleep(1)\n",
    "print('숫자야구 게임을 시작합니다')\n",
    "time.sleep(1)\n",
    "\n",
    "answer = random.sample(range(1,10),3)\n",
    "trial = 0\n",
    "out = 0\n",
    "\n",
    "while True :\n",
    "\n",
    "    strikes = 0\n",
    "    balls = 0\n",
    "\n",
    "    time.sleep(1)\n",
    "    guess=[]\n",
    "    #print(answer)\n",
    "    guessInput = input('\\n숫자 3개를 입력하세요.(예 : 3 5 8) : ')\n",
    "    time.sleep(1)\n",
    "    guessInput = guessInput.split()\n",
    "    #print(guessInput)\n",
    "    for a in guessInput :\n",
    "        a=int(a)\n",
    "        guess.append(a)\n",
    "    if len(guess) != 3 :\n",
    "        print('다시 입력하세요.')\n",
    "        time.sleep(1)\n",
    "    elif len(guess) == 3 :\n",
    "        trial += 1\n",
    "    \n",
    "    strikes = count_strk(guess,answer)\n",
    "    balls = count_ball(guess,answer)\n",
    "\n",
    "    if strikes == 3 :\n",
    "        print('Home Run! 축하합니다. 게임을 종료합니다.')\n",
    "        break\n",
    "    elif strikes + balls == 0 :\n",
    "        print('Out!')\n",
    "        time.sleep(1)\n",
    "        out += 1\n",
    "    else :\n",
    "        print('{0} strike(s) {1} ball(s)'.format(strikes,balls))\n",
    "        time.sleep(1)\n",
    "\n",
    "    if out == 3 :\n",
    "        print('3 아웃!! 패배하셨습니다.')\n",
    "        break\n",
    "    if trial == 10 :\n",
    "        print('기회를 모두 소진하였습니다. 정답은',answer,'입니다.')\n",
    "        break"
   ]
  },
  {
   "cell_type": "code",
   "execution_count": null,
   "metadata": {},
   "outputs": [],
   "source": []
  }
 ]
}